{
 "cells": [
  {
   "cell_type": "code",
   "execution_count": 1,
   "id": "5312c858-e239-4784-8c54-6c850912c633",
   "metadata": {},
   "outputs": [],
   "source": [
    "import torch\n",
    "import torch.nn as nn\n",
    "import torch.optim as optim\n",
    "import torch.nn.functional as F\n",
    "from torchvision import datasets, transforms\n",
    "from torch.utils.data import DataLoader"
   ]
  },
  {
   "cell_type": "code",
   "execution_count": 2,
   "id": "945bb85a-2e3e-4d16-92cb-565f89075a41",
   "metadata": {},
   "outputs": [],
   "source": [
    "# 1. Data Preprocessing (MNIST dataset)\n",
    "transform = transforms.Compose([transforms.ToTensor(),transforms.Normalize((0.5,), (0.5,))])\n",
    "\n",
    "# 2. Data Preprocessing (EMNIST Letters dataset for A-Z)\n",
    "# EMNIST Letters provides 26 classes (A-Z).\n",
    "NUM_CLASSES = 26 \n",
    "# Define the transformation pipeline\n",
    "transform = transforms.Compose([transforms.ToTensor(),transforms.Normalize((0.5,), (0.5,)) ])"
   ]
  },
  {
   "cell_type": "code",
   "execution_count": 3,
   "id": "303c9da1-2ab4-4407-ad27-71021b286c8e",
   "metadata": {},
   "outputs": [],
   "source": [
    "#For the larger MNIST dataset\n",
    "train_dataset = datasets.MNIST(root=\"./data\", train=True, transform=transform, download=True)\n",
    "test_dataset = datasets.MNIST(root=\"./data\", train=False, transform=transform, download=True)\n",
    "\n",
    "train_loader = DataLoader(train_dataset, batch_size=64, shuffle=True)\n",
    "test_loader = DataLoader(test_dataset, batch_size=1000, shuffle=False)\n",
    "\n",
    "#For the larger EMNIST dataset\n",
    "# *** This is the key update, using split='letters' ***\n",
    "train_dataset = datasets.EMNIST(root=\"./data\", split='letters', train=True, transform=transform, download=True)\n",
    "test_dataset = datasets.EMNIST(root=\"./data\", split='letters', train=False, transform=transform, download=True)\n",
    "\n",
    "# Set Data Loaders\n",
    "train_loader = DataLoader(train_dataset, batch_size=128, shuffle=True)\n",
    "test_loader = DataLoader(test_dataset, batch_size=1000, shuffle=False)"
   ]
  },
  {
   "cell_type": "code",
   "execution_count": 4,
   "id": "38ec229e-b3b5-4641-8fa7-885bf56d726f",
   "metadata": {},
   "outputs": [],
   "source": [
    "# 2. Define CNN Model\n",
    "class CNNModel(nn.Module):\n",
    "    def __init__(self):\n",
    "        super(CNNModel, self).__init__()\n",
    "        # Convolution layers\n",
    "        self.conv1 = nn.Conv2d(1, 16, kernel_size=3, stride=1, padding=1) \n",
    "        self.conv2 = nn.Conv2d(16, 32, kernel_size=3, stride=1, padding=1) \n",
    "        self.pool = nn.MaxPool2d(2, 2)  \n",
    "        # Fully connected layers\n",
    "        self.fc1 = nn.Linear(32 * 7 * 7, 128)  # Flatten -> Dense\n",
    "        self.fc2 = nn.Linear(128, 10)  # 10 classes for digits (0–9)\n",
    "    def forward(self, x):\n",
    "        # Convolution + ReLU + Pooling\n",
    "        x = self.pool(F.relu(self.conv1(x)))\n",
    "        x = self.pool(F.relu(self.conv2(x)))\n",
    "\n",
    "        # Flatten\n",
    "        x = x.view(-1, 32 * 7 * 7)\n",
    "\n",
    "        # Fully Connected layers\n",
    "        x = F.relu(self.fc1(x))\n",
    "        x = self.fc2(x)  # no activation here (softmax applied in loss)\n",
    "        return x"
   ]
  },
  {
   "cell_type": "code",
   "execution_count": 5,
   "id": "8b66a514-ffe2-4112-a0c1-5ba82d817702",
   "metadata": {},
   "outputs": [],
   "source": [
    "# 2. Define CNN Model\n",
    "class CNNModel(nn.Module):\n",
    "    def __init__(self, num_classes=26): \n",
    "        super(CNNModel, self).__init__()\n",
    "        # Convolution layers (kept same for feature extraction)\n",
    "        self.conv1 = nn.Conv2d(1, 16, kernel_size=3, stride=1, padding=1) \n",
    "        self.conv2 = nn.Conv2d(16, 32, kernel_size=3, stride=1, padding=1) \n",
    "        self.pool = nn.MaxPool2d(2, 2)  \n",
    "        # Fully connected layers\n",
    "        self.fc1 = nn.Linear(32 * 7 * 7, 128)  \n",
    "        self.fc2 = nn.Linear(128, num_classes) \n",
    "\n",
    "    def forward(self, x):\n",
    "        # Convolution + ReLU + Pooling\n",
    "        x = self.pool(F.relu(self.conv1(x)))\n",
    "        x = self.pool(F.relu(self.conv2(x)))\n",
    "\n",
    "        # Flatten\n",
    "        x = x.view(-1, 32 * 7 * 7)\n",
    "        x = F.relu(self.fc1(x))\n",
    "        x = self.fc2(x)  \n",
    "        return x"
   ]
  },
  {
   "cell_type": "code",
   "execution_count": 6,
   "id": "75bcbede-fc74-4d1c-843e-a8f6db095f29",
   "metadata": {},
   "outputs": [],
   "source": [
    "# 3. Initialize Model, Loss, Optimizer MNIST\n",
    "model = CNNModel()\n",
    "criterion = nn.CrossEntropyLoss()\n",
    "optimizer = optim.Adam(model.parameters(), lr=0.001)\n"
   ]
  },
  {
   "cell_type": "code",
   "execution_count": 7,
   "id": "e96793da-f6b9-45dc-969d-21c2f6ef8023",
   "metadata": {},
   "outputs": [
    {
     "name": "stdout",
     "output_type": "stream",
     "text": [
      "Starting training on MNIST (Handwritten digit images) for 3 epochs\n",
      "Epoch 1/3, Average Loss: 0.5811\n",
      "Epoch 2/3, Average Loss: 0.2614\n",
      "Epoch 3/3, Average Loss: 0.2156\n"
     ]
    }
   ],
   "source": [
    "#Training loop\n",
    "data_description = \"Handwritten digit images\"\n",
    "print(f\"Starting training on {'MNIST'.upper()} ({data_description}) for {3} epochs\")\n",
    "\n",
    "for epoch in range(3):\n",
    "    model.train()  \n",
    "    running_loss = 0.0\n",
    "    for i, (images, labels) in enumerate(train_loader):\n",
    "        labels = labels - 1  # shift labels from 1-26 → 0-25\n",
    "        outputs = model(images)\n",
    "        loss = criterion(outputs, labels)\n",
    "        optimizer.zero_grad()\n",
    "        loss.backward()\n",
    "        optimizer.step()\n",
    "        running_loss += loss.item()\n",
    "    avg_loss = running_loss / len(train_loader)\n",
    "    print(f\"Epoch {epoch+1}/{3}, Average Loss: {avg_loss:.4f}\")"
   ]
  },
  {
   "cell_type": "code",
   "execution_count": 9,
   "id": "3eb4fdf8-5a65-444b-86f2-1dbaf4f2545d",
   "metadata": {},
   "outputs": [
    {
     "name": "stdout",
     "output_type": "stream",
     "text": [
      "Accuracy on test data: 92.70%\n"
     ]
    }
   ],
   "source": [
    "# 5. testing \n",
    "model.eval()\n",
    "correct = 0\n",
    "total = 0\n",
    "\n",
    "with torch.no_grad():\n",
    "    for images, labels in test_loader:\n",
    "        labels = labels - 1  # Map 1-26 to 0-25\n",
    "        \n",
    "        outputs = model(images)\n",
    "        _, predicted = torch.max(outputs, 1)\n",
    "        total += labels.size(0)\n",
    "        correct += (predicted == labels).sum().item()\n",
    "\n",
    "accuracy = 100 * correct / total\n",
    "print(f\"Accuracy on test data: {accuracy:.2f}%\")"
   ]
  },
  {
   "cell_type": "code",
   "execution_count": null,
   "id": "fbe0540f-4bef-4f34-a60f-e28e7cd6d730",
   "metadata": {},
   "outputs": [],
   "source": []
  },
  {
   "cell_type": "code",
   "execution_count": null,
   "id": "1cbce082-4edd-4a53-af86-41e20ddc9a23",
   "metadata": {},
   "outputs": [],
   "source": []
  }
 ],
 "metadata": {
  "kernelspec": {
   "display_name": "Python 3 (ipykernel)",
   "language": "python",
   "name": "python3"
  },
  "language_info": {
   "codemirror_mode": {
    "name": "ipython",
    "version": 3
   },
   "file_extension": ".py",
   "mimetype": "text/x-python",
   "name": "python",
   "nbconvert_exporter": "python",
   "pygments_lexer": "ipython3",
   "version": "3.12.7"
  }
 },
 "nbformat": 4,
 "nbformat_minor": 5
}
